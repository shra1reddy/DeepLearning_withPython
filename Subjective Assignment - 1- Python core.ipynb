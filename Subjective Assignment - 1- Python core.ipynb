{
 "cells": [
  {
   "cell_type": "markdown",
   "metadata": {},
   "source": [
    "Q1. Write a Python program to get the string from the given string where\n",
    "all the occurrence of its first char has been changed to '$,' except first\n",
    "char itself?\n",
    "\n",
    "    Sample String: 'prospect'\n",
    "    Expected Result : 'pros$ect'\n"
   ]
  },
  {
   "cell_type": "code",
   "execution_count": 27,
   "metadata": {},
   "outputs": [
    {
     "name": "stdout",
     "output_type": "stream",
     "text": [
      "Enter a string:shravansss\n",
      "shravan$$$\n"
     ]
    },
    {
     "data": {
      "text/plain": [
       "str"
      ]
     },
     "execution_count": 27,
     "metadata": {},
     "output_type": "execute_result"
    }
   ],
   "source": [
    "input_string = list(input(\"Enter a string:\"))\n",
    "\n",
    "for i in range(1,len(input_string)):\n",
    "    if input_string[i] == input_string[0]:\n",
    "        input_string[i] = \"$\"\n",
    "        \n",
    "# input_string = input_string.join()\n",
    "input_string = ''.join(map(str, input_string))\n",
    "print(input_string)"
   ]
  },
  {
   "cell_type": "markdown",
   "metadata": {},
   "source": [
    "Q2. Write a Python program to get the single string from the two given\n",
    "strings, and separated by the space and swap the first two characters of\n",
    "each string?\n",
    "\n",
    "    Sample String : 'abc', 'xyz'.\n",
    "    Expected Result: 'xyc abz'"
   ]
  },
  {
   "cell_type": "code",
   "execution_count": 2,
   "metadata": {},
   "outputs": [
    {
     "name": "stdout",
     "output_type": "stream",
     "text": [
      "Enter first string:abc\n",
      "Enter second string:xyz\n",
      "xyc abz\n"
     ]
    }
   ],
   "source": [
    "input_str1 = list(input(\"Enter first string:\"))\n",
    "input_str2 = list(input(\"Enter second string:\"))\n",
    "\n",
    "temp = input_str1[0:2]\n",
    "\n",
    "input_str1[0:2] = input_str2[0:2]\n",
    "input_str2[0:2] = temp\n",
    "\n",
    "input_str1 = input_str1 + [\" \"] + input_str2 \n",
    "\n",
    "out_str = ''.join(map(str, input_str1))\n",
    "print(out_str)"
   ]
  },
  {
   "cell_type": "markdown",
   "metadata": {},
   "source": [
    "Q3. Write the Python program to add 'ing' at the end of the given string\n",
    "(length of the string should be at least 3). If given string already ends\n",
    "with 'ing,' then add 'ly' instead. If string length of the given string is less\n",
    "than 3, leave it unchanged?\n",
    "\n",
    "\n",
    "    Sample string: ' abc '\n",
    "    Expected result: ' abcing '\n",
    "    Sample string: ' string '\n",
    "    Expected result: ' stringly '\n"
   ]
  },
  {
   "cell_type": "code",
   "execution_count": 19,
   "metadata": {},
   "outputs": [
    {
     "name": "stdout",
     "output_type": "stream",
     "text": [
      "Enter first string:string\n",
      "stringly\n"
     ]
    }
   ],
   "source": [
    "input_str = list(input(\"Enter first string:\"))\n",
    "\n",
    "if len(input_str) >= 3:\n",
    "    if(input_str[-3:len(input_str)+1] == [\"i\",\"n\",\"g\"]):\n",
    "        input_str = input_str + [\"l\",\"y\"]\n",
    "    else:\n",
    "        input_str = input_str + [\"i\",\"n\",\"g\"]\n",
    "\n",
    "input_str = ''.join(map(str, input_str))\n",
    "print(input_str)"
   ]
  },
  {
   "cell_type": "markdown",
   "metadata": {},
   "source": [
    "Q4. Write the Python program to find the first appearance of the\n",
    "substring 'not' and 'poor' from the given string, if 'not' follows the 'poor',\n",
    "replace the whole 'not'...' poor' substring with 'good'.Return the resulting\n",
    "string.\n",
    "\n",
    "    Sample string: 'The lyrics are not that poor!'\n",
    "    'The lyrics are poor!'\n",
    "    Expected Result: 'The lyrics are good!'\n",
    "    'The lyrics are poor!'"
   ]
  },
  {
   "cell_type": "code",
   "execution_count": 51,
   "metadata": {},
   "outputs": [
    {
     "name": "stdout",
     "output_type": "stream",
     "text": [
      "Enter first string:The lyrics are not that poor!\n",
      "The lyrics are good!\n"
     ]
    }
   ],
   "source": [
    "input_str = input(\"Enter a string:\")\n",
    "\n",
    "index_not = input_str.find('not')\n",
    "index_poor = input_str.find('poor')\n",
    "\n",
    "if index_poor > index_not:\n",
    "    input_str = input_str.replace(input_str[index_not:(index_poor+4)], 'good')\n",
    "print(input_str)"
   ]
  },
  {
   "cell_type": "markdown",
   "metadata": {},
   "source": [
    "Q5. Write the Python program to remove the characters which have odd\n",
    "index values of a given string."
   ]
  },
  {
   "cell_type": "code",
   "execution_count": 56,
   "metadata": {},
   "outputs": [
    {
     "name": "stdout",
     "output_type": "stream",
     "text": [
      "Enter first string:hello shravan\n",
      "hlosrvn\n"
     ]
    }
   ],
   "source": [
    "input_str = input(\"Enter a string:\")\n",
    "result = \"\"\n",
    "for i in range(0,len(input_str),2):\n",
    "    result = result + input_str[i]\n",
    "print(result)"
   ]
  },
  {
   "cell_type": "markdown",
   "metadata": {},
   "source": [
    "Q6. Write the python program to print the following floating numbers up\n",
    "to 2 decimal places?"
   ]
  },
  {
   "cell_type": "code",
   "execution_count": 91,
   "metadata": {},
   "outputs": [
    {
     "name": "stdout",
     "output_type": "stream",
     "text": [
      "Enter a number:3.148907\n",
      "3.15\n"
     ]
    }
   ],
   "source": [
    "input_number = float(input(\"Enter a number:\"))\n",
    "\n",
    "def upto_twodecimals(input_no):\n",
    "    third_digit = int(input_no * 1000) - (int(input_no * 100) * 10)\n",
    "    if third_digit >= 5:\n",
    "        result = ( int(input_no * 100) + 1 ) / 100.0\n",
    "    else:\n",
    "        result = (int(input_no * 100)) / 100.0\n",
    "    return result\n",
    "\n",
    "print(upto_twodecimals(input_number))"
   ]
  },
  {
   "cell_type": "markdown",
   "metadata": {},
   "source": [
    "Q7. Write the Python program to format a number with a percentage?"
   ]
  },
  {
   "cell_type": "code",
   "execution_count": 93,
   "metadata": {},
   "outputs": [
    {
     "name": "stdout",
     "output_type": "stream",
     "text": [
      "Enter a number:0.1349999\n",
      "13.5%\n"
     ]
    }
   ],
   "source": [
    "input_no = float(input(\"Enter a number:\"))\n",
    "# formatted = int(input_no * 10000) / 100.0\n",
    "print(str(upto_twodecimals(input_no * 100)) +\"%\")"
   ]
  },
  {
   "cell_type": "markdown",
   "metadata": {},
   "source": [
    "Q8. Write the Python program to count occurrences of a substring in a\n",
    "String?"
   ]
  },
  {
   "cell_type": "code",
   "execution_count": 96,
   "metadata": {},
   "outputs": [
    {
     "name": "stdout",
     "output_type": "stream",
     "text": [
      "Enter the string:The quick brown fox jumps over the lazy fox fox dog.\n",
      "Enter the substring whose count of occurences you want to know in the first string:fox\n",
      "3\n"
     ]
    }
   ],
   "source": [
    "input_str = input(\"Enter the string:\")\n",
    "input_substr = input(\"Enter the substring whose count of occurences you want to know in the first string:\")\n",
    "print(input_str.count(input_substr))"
   ]
  },
  {
   "cell_type": "markdown",
   "metadata": {},
   "source": [
    "Q9. Write the Python program to count repeated characters in a string.\n",
    "\n",
    "    Sample string: ' thequickbrownjumpsoverthelazydog '\n",
    "    \n",
    "    Expected output:\n",
    "    o 3\n",
    "    e 3\n",
    "    u 2\n",
    "    h 2\n",
    "    r 2\n",
    "    t 2"
   ]
  },
  {
   "cell_type": "code",
   "execution_count": 106,
   "metadata": {},
   "outputs": [
    {
     "name": "stdout",
     "output_type": "stream",
     "text": [
      "Enter the string: thequickbrownjumpsoverthelazydog \n",
      "t 2\n",
      "h 2\n",
      "e 3\n",
      "u 2\n",
      "r 2\n",
      "o 3\n"
     ]
    }
   ],
   "source": [
    "input_str = input(\"Enter the string:\")\n",
    "chars = []\n",
    "chars_count =[]\n",
    "\n",
    "for i in range(len(input_str)):\n",
    "    if ((input_str[i].isalpha()) == True):\n",
    "        if (input_str[i] in chars):\n",
    "            index = chars.index(input_str[i])\n",
    "            chars_count[index] = chars_count[index] + 1\n",
    "        else:\n",
    "            chars.append(input_str[i])\n",
    "            chars_count.append(1)\n",
    "for i in range(len(chars)):\n",
    "    if( chars_count[i] >1 ):\n",
    "        print(chars[i]+\" \"+str(chars_count[i]))"
   ]
  },
  {
   "cell_type": "markdown",
   "metadata": {},
   "source": [
    "Q10. Write the Python program to print the square and cube symbol in\n",
    "the area of a rectangle and volume of a cylinder?\n",
    "\n",
    "    Sample outputThe area of the rectangle is 1256.66cm2\n",
    "    The volume of the cylinder is 1254.725cm3\n"
   ]
  },
  {
   "cell_type": "code",
   "execution_count": null,
   "metadata": {},
   "outputs": [],
   "source": []
  },
  {
   "cell_type": "markdown",
   "metadata": {},
   "source": [
    "Q11. Write the Python program to check if a string contains all letters of\n",
    "the alphabet?"
   ]
  },
  {
   "cell_type": "code",
   "execution_count": 5,
   "metadata": {},
   "outputs": [
    {
     "name": "stdout",
     "output_type": "stream",
     "text": [
      "Enter the string:the quick brown fox jumps over the lazy dog\n",
      "Yes\n"
     ]
    }
   ],
   "source": [
    "input_str = input(\"Enter the string:\")\n",
    "\n",
    "def check_all_alphabets(input_string):\n",
    "    chars = \"abcdefghijklmnopqrstuvwxyz\"\n",
    "    for char in chars:\n",
    "        if char not in input_string.lower():\n",
    "            return \"No\"\n",
    "    return \"Yes\"\n",
    "print( check_all_alphabets(input_str))"
   ]
  },
  {
   "cell_type": "markdown",
   "metadata": {},
   "source": [
    "Q12. Write the Python program to find the second most repeated word\n",
    "in a given string?"
   ]
  },
  {
   "cell_type": "code",
   "execution_count": 7,
   "metadata": {},
   "outputs": [
    {
     "name": "stdout",
     "output_type": "stream",
     "text": [
      "Enter the string:hey good good bad bad good\n",
      "('bad', 2)\n"
     ]
    }
   ],
   "source": [
    "input_str = input(\"Enter the string:\")\n",
    "def second_frequent_word(str):\n",
    "    dict_counts = dict()\n",
    "    words = str.split()\n",
    "\n",
    "    for word in words:\n",
    "        if word in dict_counts:\n",
    "            dict_counts[word] += 1\n",
    "        else:\n",
    "            dict_counts[word] = 1\n",
    "\n",
    "    counts_x = sorted(dict_counts.items(), key=lambda kv: kv[1])\n",
    "    #print(counts_x)\n",
    "    return counts_x[-2]\n",
    "print(second_frequent_word(input_str))"
   ]
  },
  {
   "cell_type": "markdown",
   "metadata": {},
   "source": [
    "Q13. Write the Python program to find the minimum window in the given\n",
    "string, which will contains all the characters of another given\n",
    "strings?\n",
    "\n",
    "    Example 1\n",
    "    Input : string1 = \" PRWSOERIUSFK \"\n",
    "    string2 = \" OSU \"\n",
    "    Output: Minimum window is \"OERIUS\""
   ]
  },
  {
   "cell_type": "code",
   "execution_count": 79,
   "metadata": {},
   "outputs": [
    {
     "name": "stdout",
     "output_type": "stream",
     "text": [
      "Enter the string:PRWSOERIUSFK\n",
      "Enter the substring whose all characters will be present in the minimum window to be found:OSU\n",
      "Iam here in max2min\n",
      "OERIU\n"
     ]
    }
   ],
   "source": [
    "input_str = input(\"Enter the string (Uppercase):\")\n",
    "input_substr = input(\"Enter the substring whose all characters will be present in the minimum window to be found(uppercase):\")\n",
    "\n",
    "# Function to calculate list of all lists containing all the indexes from first string for each character of second string \n",
    "def char_windows_list(big_string, substring):\n",
    "    count_substring = []\n",
    "    \n",
    "    for char_index in range(len(substring)):\n",
    "        temp = []\n",
    "        for char_no in range(len(big_string)):\n",
    "            if substring[char_index] == big_string[char_no]:\n",
    "                temp.append(char_no)\n",
    "        count_substring.append(temp)\n",
    "    \n",
    "    return count_substring\n",
    "\n",
    "list_all_windows = char_windows_list(input_str, input_substr)\n",
    "#print(list_all_windows)\n",
    "\n",
    "# Function to calculate the maximum window containing all the characters of second string\n",
    "def max_window(list_windows):\n",
    "    minimums = []\n",
    "    maximums = []\n",
    "    for i in range(len(list_windows)):\n",
    "        minimums.append(list_windows[i][0])\n",
    "        maximums.append(list_windows[i][-1])\n",
    "\n",
    "    max_window = [min(minimums),max(maximums)]\n",
    "    return max_window, minimums, maximums\n",
    "\n",
    "range_window, minimums, maximums = max_window(list_all_windows)\n",
    "\n",
    "# Function that optimizes the maximum window to minimum window\n",
    "def max2min_window(range_window, minimums, maximums):\n",
    "    print(\"Iam here in max2min\")\n",
    "    min_window = range_window[0]\n",
    "    max_window = range_window[1]\n",
    "\n",
    "    new_maximum = max_window\n",
    "    new_minimum = min_window\n",
    "\n",
    "    for i in range(min_window, max_window + 1,1):\n",
    "        update_min = True\n",
    "        for j in range(len(minimums)):\n",
    "            if (i > maximums[j]):\n",
    "                update_min = False\n",
    "            \n",
    "        if( update_min == True):\n",
    "            new_minimum = i\n",
    "    \n",
    "    for i in range(max_window, min_window - 1,-1):\n",
    "        update_max = True\n",
    "        for j in range(len(minimums)):\n",
    "            if (i < minimums[j]):\n",
    "                update_max = False\n",
    "                \n",
    "        if( update_max == True):\n",
    "            new_maximum = i\n",
    "            \n",
    "    new_range_window = [new_minimum, new_maximum]\n",
    "    return new_range_window\n",
    "\n",
    "new_range_window = max2min_window(range_window, minimums, maximums)\n",
    "            \n",
    "print(input_str[new_range_window[0]:new_range_window[1]+1])"
   ]
  },
  {
   "cell_type": "markdown",
   "metadata": {},
   "source": [
    "Q14. Write the Python program to count number of substrings from a\n",
    "given string of lowercase alphabets with exactly k distinct (given)\n",
    "characters?\n",
    "\n",
    "    Input a string (lowercase alphabets): wolf\n",
    "    Input k: 4\n",
    "    Number of substrings with exactly 4 distinct characters: 1"
   ]
  },
  {
   "cell_type": "code",
   "execution_count": 95,
   "metadata": {},
   "outputs": [
    {
     "name": "stdout",
     "output_type": "stream",
     "text": [
      "Input a string (lowercase alphabets):abcdefghijklmnopqrstuvwxyzabcdefghijklmnopqrstuvwxyz\n",
      "Input k: 2\n",
      "Number of substrings with exactly 2 distinct characters :  51\n"
     ]
    }
   ],
   "source": [
    "def count_k_dist(str1, k): \n",
    "\tstr_len = len(str1) \n",
    "\t\n",
    "\tresult = 0\n",
    "\n",
    "\tfor i in range(0, str_len): \n",
    "\t\tdist_ctr = 0\n",
    "\n",
    "\t\tctr = [0] * 27\n",
    "\n",
    "\t\tfor j in range(i, str_len): \n",
    "\t\t\t\n",
    "\t\t\tif(ctr[ord(str1[j]) - 97] == 0): \n",
    "\t\t\t\tdist_ctr += 1\n",
    "\n",
    "\t\t\tctr[ord(str1[j]) - 97] += 1\n",
    "\n",
    "\t\t\tif(dist_ctr == k): \n",
    "\t\t\t\tresult += 1\n",
    "\t\t\tif(dist_ctr > k): \n",
    "\t\t\t\tbreak\n",
    "\n",
    "\treturn result \n",
    "\n",
    "input_str = input(\"Input a string (lowercase alphabets):\")\n",
    "k = int(input(\"Input k: \"))\n",
    "print(\"Number of substrings with exactly\", k, \"distinct characters : \", count_k_dist(input_str, k)) "
   ]
  },
  {
   "cell_type": "markdown",
   "metadata": {},
   "source": [
    "Q15. Write the Python program to count number of substrings with same\n",
    "first and last characters of the given string?\n",
    "\n",
    "    Input a string: abcd\n",
    "    4\n"
   ]
  },
  {
   "cell_type": "code",
   "execution_count": 98,
   "metadata": {},
   "outputs": [
    {
     "name": "stdout",
     "output_type": "stream",
     "text": [
      "Input a string: aba\n",
      "4\n"
     ]
    }
   ],
   "source": [
    "input_str = input(\"Input a string: \")\n",
    "\n",
    "def no_strs_matchends(str1):\n",
    "    count = 0\n",
    "    l = len(input_str)\n",
    "    \n",
    "    for i in range(l):\n",
    "        for j in range(i,l):\n",
    "            if(input_str[i]==input_str[j]):\n",
    "                count = count +1\n",
    "    return count\n",
    "\n",
    "print(no_strs_matchends(input_str))  \n"
   ]
  },
  {
   "cell_type": "markdown",
   "metadata": {},
   "source": [
    "## Great Job!"
   ]
  }
 ],
 "metadata": {
  "kernelspec": {
   "display_name": "Python 3",
   "language": "python",
   "name": "python3"
  },
  "language_info": {
   "codemirror_mode": {
    "name": "ipython",
    "version": 3
   },
   "file_extension": ".py",
   "mimetype": "text/x-python",
   "name": "python",
   "nbconvert_exporter": "python",
   "pygments_lexer": "ipython3",
   "version": "3.7.4"
  }
 },
 "nbformat": 4,
 "nbformat_minor": 2
}
